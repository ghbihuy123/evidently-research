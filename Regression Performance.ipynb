{
 "cells": [
  {
   "cell_type": "code",
   "execution_count": 2,
   "metadata": {},
   "outputs": [
    {
     "name": "stdout",
     "output_type": "stream",
     "text": [
      "c:\\Users\\HuyLQ15_CTV\\Desktop\\model_monitoring\n"
     ]
    },
    {
     "name": "stderr",
     "output_type": "stream",
     "text": [
      "c:\\Users\\HuyLQ15_CTV\\AppData\\Local\\miniconda3\\envs\\model-monitoring\\lib\\site-packages\\IPython\\core\\magics\\osm.py:417: UserWarning: This is now an optional IPython functionality, setting dhist requires you to install the `pickleshare` library.\n",
      "  self.shell.db['dhist'] = compress_dhist(dhist)[-100:]\n"
     ]
    }
   ],
   "source": [
    "%cd .."
   ]
  },
  {
   "cell_type": "code",
   "execution_count": 3,
   "metadata": {},
   "outputs": [],
   "source": [
    "import pandas as pd\n",
    "import numpy as np\n",
    "import requests\n",
    "import zipfile\n",
    "import io\n",
    "\n",
    "from datetime import datetime, time\n",
    "from sklearn import datasets, ensemble\n",
    "\n",
    "from evidently import ColumnMapping\n",
    "from evidently.report import Report\n",
    "from evidently.metric_preset import DataDriftPreset, TargetDriftPreset, RegressionPreset"
   ]
  },
  {
   "cell_type": "code",
   "execution_count": 4,
   "metadata": {},
   "outputs": [],
   "source": [
    "import warnings\n",
    "warnings.filterwarnings(\"ignore\")"
   ]
  },
  {
   "cell_type": "code",
   "execution_count": 5,
   "metadata": {},
   "outputs": [],
   "source": [
    "content = requests.get(\"https://archive.ics.uci.edu/static/public/275/bike+sharing+dataset.zip\", verify=False).content\n",
    "with zipfile.ZipFile(io.BytesIO(content)) as arc:\n",
    "    raw_data = pd.read_csv(arc.open(\"hour.csv\"), header=0, sep=',', parse_dates=['dteday'], index_col='dteday')"
   ]
  },
  {
   "cell_type": "code",
   "execution_count": 6,
   "metadata": {},
   "outputs": [],
   "source": [
    "from datetime import time, datetime\n",
    "\n",
    "raw_data.index = raw_data.apply(\n",
    "    lambda row: datetime.combine(row.name, time(hour=int(row['hr']))), axis = 1)"
   ]
  },
  {
   "cell_type": "code",
   "execution_count": 7,
   "metadata": {},
   "outputs": [
    {
     "data": {
      "text/html": [
       "<div>\n",
       "<style scoped>\n",
       "    .dataframe tbody tr th:only-of-type {\n",
       "        vertical-align: middle;\n",
       "    }\n",
       "\n",
       "    .dataframe tbody tr th {\n",
       "        vertical-align: top;\n",
       "    }\n",
       "\n",
       "    .dataframe thead th {\n",
       "        text-align: right;\n",
       "    }\n",
       "</style>\n",
       "<table border=\"1\" class=\"dataframe\">\n",
       "  <thead>\n",
       "    <tr style=\"text-align: right;\">\n",
       "      <th></th>\n",
       "      <th>instant</th>\n",
       "      <th>season</th>\n",
       "      <th>yr</th>\n",
       "      <th>mnth</th>\n",
       "      <th>hr</th>\n",
       "      <th>holiday</th>\n",
       "      <th>weekday</th>\n",
       "      <th>workingday</th>\n",
       "      <th>weathersit</th>\n",
       "      <th>temp</th>\n",
       "      <th>atemp</th>\n",
       "      <th>hum</th>\n",
       "      <th>windspeed</th>\n",
       "      <th>casual</th>\n",
       "      <th>registered</th>\n",
       "      <th>cnt</th>\n",
       "    </tr>\n",
       "  </thead>\n",
       "  <tbody>\n",
       "    <tr>\n",
       "      <th>2011-01-01 00:00:00</th>\n",
       "      <td>1</td>\n",
       "      <td>1</td>\n",
       "      <td>0</td>\n",
       "      <td>1</td>\n",
       "      <td>0</td>\n",
       "      <td>0</td>\n",
       "      <td>6</td>\n",
       "      <td>0</td>\n",
       "      <td>1</td>\n",
       "      <td>0.24</td>\n",
       "      <td>0.2879</td>\n",
       "      <td>0.81</td>\n",
       "      <td>0.0</td>\n",
       "      <td>3</td>\n",
       "      <td>13</td>\n",
       "      <td>16</td>\n",
       "    </tr>\n",
       "    <tr>\n",
       "      <th>2011-01-01 01:00:00</th>\n",
       "      <td>2</td>\n",
       "      <td>1</td>\n",
       "      <td>0</td>\n",
       "      <td>1</td>\n",
       "      <td>1</td>\n",
       "      <td>0</td>\n",
       "      <td>6</td>\n",
       "      <td>0</td>\n",
       "      <td>1</td>\n",
       "      <td>0.22</td>\n",
       "      <td>0.2727</td>\n",
       "      <td>0.80</td>\n",
       "      <td>0.0</td>\n",
       "      <td>8</td>\n",
       "      <td>32</td>\n",
       "      <td>40</td>\n",
       "    </tr>\n",
       "    <tr>\n",
       "      <th>2011-01-01 02:00:00</th>\n",
       "      <td>3</td>\n",
       "      <td>1</td>\n",
       "      <td>0</td>\n",
       "      <td>1</td>\n",
       "      <td>2</td>\n",
       "      <td>0</td>\n",
       "      <td>6</td>\n",
       "      <td>0</td>\n",
       "      <td>1</td>\n",
       "      <td>0.22</td>\n",
       "      <td>0.2727</td>\n",
       "      <td>0.80</td>\n",
       "      <td>0.0</td>\n",
       "      <td>5</td>\n",
       "      <td>27</td>\n",
       "      <td>32</td>\n",
       "    </tr>\n",
       "    <tr>\n",
       "      <th>2011-01-01 03:00:00</th>\n",
       "      <td>4</td>\n",
       "      <td>1</td>\n",
       "      <td>0</td>\n",
       "      <td>1</td>\n",
       "      <td>3</td>\n",
       "      <td>0</td>\n",
       "      <td>6</td>\n",
       "      <td>0</td>\n",
       "      <td>1</td>\n",
       "      <td>0.24</td>\n",
       "      <td>0.2879</td>\n",
       "      <td>0.75</td>\n",
       "      <td>0.0</td>\n",
       "      <td>3</td>\n",
       "      <td>10</td>\n",
       "      <td>13</td>\n",
       "    </tr>\n",
       "    <tr>\n",
       "      <th>2011-01-01 04:00:00</th>\n",
       "      <td>5</td>\n",
       "      <td>1</td>\n",
       "      <td>0</td>\n",
       "      <td>1</td>\n",
       "      <td>4</td>\n",
       "      <td>0</td>\n",
       "      <td>6</td>\n",
       "      <td>0</td>\n",
       "      <td>1</td>\n",
       "      <td>0.24</td>\n",
       "      <td>0.2879</td>\n",
       "      <td>0.75</td>\n",
       "      <td>0.0</td>\n",
       "      <td>0</td>\n",
       "      <td>1</td>\n",
       "      <td>1</td>\n",
       "    </tr>\n",
       "  </tbody>\n",
       "</table>\n",
       "</div>"
      ],
      "text/plain": [
       "                     instant  season  yr  mnth  hr  holiday  weekday  \\\n",
       "2011-01-01 00:00:00        1       1   0     1   0        0        6   \n",
       "2011-01-01 01:00:00        2       1   0     1   1        0        6   \n",
       "2011-01-01 02:00:00        3       1   0     1   2        0        6   \n",
       "2011-01-01 03:00:00        4       1   0     1   3        0        6   \n",
       "2011-01-01 04:00:00        5       1   0     1   4        0        6   \n",
       "\n",
       "                     workingday  weathersit  temp   atemp   hum  windspeed  \\\n",
       "2011-01-01 00:00:00           0           1  0.24  0.2879  0.81        0.0   \n",
       "2011-01-01 01:00:00           0           1  0.22  0.2727  0.80        0.0   \n",
       "2011-01-01 02:00:00           0           1  0.22  0.2727  0.80        0.0   \n",
       "2011-01-01 03:00:00           0           1  0.24  0.2879  0.75        0.0   \n",
       "2011-01-01 04:00:00           0           1  0.24  0.2879  0.75        0.0   \n",
       "\n",
       "                     casual  registered  cnt  \n",
       "2011-01-01 00:00:00       3          13   16  \n",
       "2011-01-01 01:00:00       8          32   40  \n",
       "2011-01-01 02:00:00       5          27   32  \n",
       "2011-01-01 03:00:00       3          10   13  \n",
       "2011-01-01 04:00:00       0           1    1  "
      ]
     },
     "execution_count": 7,
     "metadata": {},
     "output_type": "execute_result"
    }
   ],
   "source": [
    "raw_data.head()"
   ]
  },
  {
   "cell_type": "markdown",
   "metadata": {},
   "source": [
    "# Regression Quality"
   ]
  },
  {
   "cell_type": "markdown",
   "metadata": {},
   "source": [
    "* Step 1: \n",
    "* Step 2: \n",
    "* Step 3:"
   ]
  },
  {
   "cell_type": "markdown",
   "metadata": {},
   "source": [
    "## Prepare data"
   ]
  },
  {
   "cell_type": "code",
   "execution_count": 8,
   "metadata": {},
   "outputs": [],
   "source": [
    "target = 'cnt'\n",
    "prediction = 'prediction'\n",
    "numerical_features = ['temp', 'atemp', 'hum', 'windspeed', 'hr', 'weekday']\n",
    "categorical_features = ['season', 'holiday', 'workingday']\n",
    "column_mapping = ColumnMapping()\n",
    "column_mapping.target = target\n",
    "column_mapping.prediction = prediction\n",
    "column_mapping.numerical_features = numerical_features\n",
    "column_mapping.categorical_features = categorical_features"
   ]
  },
  {
   "cell_type": "code",
   "execution_count": 9,
   "metadata": {},
   "outputs": [],
   "source": [
    "reference = raw_data.loc['2011-01-01 00:00:00':'2011-01-28 23:00:00']\n",
    "current = raw_data.loc['2011-01-29 00:00:00':'2011-02-28 23:00:00']"
   ]
  },
  {
   "cell_type": "code",
   "execution_count": 10,
   "metadata": {},
   "outputs": [],
   "source": [
    "regressor = ensemble.RandomForestRegressor(random_state = 0, n_estimators = 50)\n",
    "regressor.fit(reference[numerical_features + categorical_features], reference[target])\n",
    "ref_prediction = regressor.predict(reference[numerical_features + categorical_features])\n",
    "current_prediction = regressor.predict(current[numerical_features + categorical_features])\n",
    "reference['prediction'] = ref_prediction\n",
    "current['prediction'] = current_prediction"
   ]
  },
  {
   "cell_type": "markdown",
   "metadata": {},
   "source": [
    "# Regression Performance Default"
   ]
  },
  {
   "cell_type": "code",
   "execution_count": null,
   "metadata": {},
   "outputs": [],
   "source": [
    "from evidently.metric_preset import RegressionPreset\n",
    "from evidently.report import Report"
   ]
  },
  {
   "cell_type": "code",
   "execution_count": 26,
   "metadata": {},
   "outputs": [],
   "source": [
    "data_quality_report = Report(metrics=[\n",
    "    RegressionPreset()\n",
    "])\n",
    "\n",
    "regression_performance = Report(metrics=[RegressionPreset()], options={\"render\": {\"raw_data\": True}})\n",
    "regression_performance.run(current_data=reference, reference_data=None, column_mapping=column_mapping)\n",
    "regression_performance.save_json('./reports/Regression Performance.json')"
   ]
  },
  {
   "cell_type": "markdown",
   "metadata": {},
   "source": [
    "# Regression Performance Custom"
   ]
  },
  {
   "cell_type": "code",
   "execution_count": 35,
   "metadata": {},
   "outputs": [
    {
     "data": {
      "text/plain": [
       "RegressionResults(type='evidently:metric_result:RegressionResults', mae=4.104142394822006, mse=40.476731391585766, rmse=6.36213261348628, mean_square_log_error=0.03299255448524422, root_mean_square_log_error=0.18163852698489993, r2=0.9832837012532686)"
      ]
     },
     "execution_count": 35,
     "metadata": {},
     "output_type": "execute_result"
    }
   ],
   "source": [
    "from typing import Optional, List, Union, Dict\n",
    "from evidently.base_metric import MetricResult\n",
    "from evidently.base_metric import Metric\n",
    "from evidently.base_metric import InputData\n",
    "\n",
    "from sklearn.metrics import mean_absolute_error, mean_squared_error, root_mean_squared_error\n",
    "from sklearn.metrics import mean_squared_log_error, root_mean_squared_log_error\n",
    "from sklearn.metrics import r2_score\n",
    "\n",
    "class RegressionResults(MetricResult):\n",
    "    class Config:\n",
    "        type_alias = \"evidently:metric_result:RegressionResults\"\n",
    "        \n",
    "    mae: float\n",
    "    mse: float\n",
    "    rmse: float\n",
    "    mean_square_log_error: float\n",
    "    root_mean_square_log_error: float\n",
    "    r2: float\n",
    "\n",
    "\n",
    "def calculate_regression_metrics(data: pd.DataFrame, true_label_col: str, prediction_col: str) -> RegressionResults:\n",
    "    y_true = data[true_label_col].copy()\n",
    "    y_pred = data[prediction_col].copy()\n",
    "\n",
    "    mae = mean_absolute_error(y_true, y_pred)\n",
    "    mse = mean_squared_error(y_true, y_pred)\n",
    "    rmse = root_mean_squared_error(y_true, y_pred)\n",
    "    msle = mean_squared_log_error(y_true, y_pred)\n",
    "    rmsle = root_mean_squared_log_error(y_true, y_pred)\n",
    "    r2 = r2_score(y_true, y_pred)\n",
    "    \n",
    "    return RegressionResults(\n",
    "        mae=float(mae),\n",
    "        mse=float(mse),\n",
    "        rmse=float(rmse),\n",
    "        mean_square_log_error=float(msle),\n",
    "        r2=float(r2),\n",
    "        root_mean_square_log_error=float(rmsle)\n",
    "    )"
   ]
  },
  {
   "cell_type": "code",
   "execution_count": 75,
   "metadata": {},
   "outputs": [],
   "source": [
    "class RegressionPerformanceResults(MetricResult):\n",
    "    class Config:\n",
    "        type_alias = \"evidently:metric_result:RegressionPerformanceResults\"\n",
    "\n",
    "    reference: Optional[RegressionResults]\n",
    "    current: RegressionResults\n",
    "\n",
    "class RegressionPerformanceMetrics(Metric[RegressionPerformanceResults]):\n",
    "    class Config:\n",
    "        type_alias = \"evidently:metric:RegressionPerformanceMetrics\"\n",
    "    _column_map: ColumnMapping\n",
    "\n",
    "    def __init__(self, column_map: ColumnMapping):\n",
    "        self._column_map = column_map\n",
    "        super().__init__()\n",
    "\n",
    "    def calculate(self, data: InputData) -> RegressionPerformanceResults:\n",
    "        results = {}\n",
    "        results['reference'] = None\n",
    "        if data.reference_data is not None:\n",
    "            results['reference'] = calculate_regression_metrics(\n",
    "                data.reference_data, \n",
    "                true_label_col=self._column_map.target, \n",
    "                prediction_col=self._column_map.prediction)\n",
    "            \n",
    "        if data.current_data is None:\n",
    "            raise ValueError(\"The value cannot be None\")\n",
    "\n",
    "        results['current'] = calculate_regression_metrics(\n",
    "                data.current_data, \n",
    "                true_label_col=self._column_map.target, \n",
    "                prediction_col=self._column_map.prediction)\n",
    "\n",
    "        return RegressionPerformanceResults(\n",
    "            reference=results['reference'],\n",
    "            current=results['current']\n",
    "        )"
   ]
  },
  {
   "cell_type": "code",
   "execution_count": 77,
   "metadata": {},
   "outputs": [],
   "source": [
    "from evidently.renderers.base_renderer import MetricRenderer, default_renderer\n",
    "\n",
    "@default_renderer(wrap_type=RegressionPerformanceMetrics)\n",
    "class RegressionRenders(MetricRenderer):\n",
    "    def render_json(self, obj: RegressionPerformanceMetrics, include_render: bool = False,\n",
    "        include: \"IncludeOptions\" = None, exclude: \"IncludeOptions\" = None,) -> dict:\n",
    "        result = obj.get_result().get_dict(include_render, include, exclude)\n",
    "        return result"
   ]
  },
  {
   "cell_type": "code",
   "execution_count": 78,
   "metadata": {},
   "outputs": [],
   "source": [
    "report = Report(metrics=[\n",
    "    RegressionPerformanceMetrics(column_map=column_mapping)\n",
    "])\n",
    "\n",
    "report.run(current_data=current, reference_data=None)\n",
    "# report.save_json('./reports/Data Quality Custom.json')\n",
    "report.save_json('./reports/custom/Regression Performance Custom.json')"
   ]
  }
 ],
 "metadata": {
  "interpreter": {
   "hash": "207e60eac2ff56558166198e2c0941ea4216ea025c42ddd95d3a76ed9cb3f5a9"
  },
  "kernelspec": {
   "display_name": "Python 3.10.15 ('model-monitoring')",
   "language": "python",
   "name": "python3"
  },
  "language_info": {
   "codemirror_mode": {
    "name": "ipython",
    "version": 3
   },
   "file_extension": ".py",
   "mimetype": "text/x-python",
   "name": "python",
   "nbconvert_exporter": "python",
   "pygments_lexer": "ipython3",
   "version": "3.10.15"
  },
  "orig_nbformat": 4
 },
 "nbformat": 4,
 "nbformat_minor": 2
}
