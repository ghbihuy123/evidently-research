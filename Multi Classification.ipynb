{
 "cells": [
  {
   "cell_type": "code",
   "execution_count": 1,
   "metadata": {},
   "outputs": [
    {
     "name": "stdout",
     "output_type": "stream",
     "text": [
      "c:\\Users\\HuyLQ15_CTV\\Desktop\\model_monitoring\n"
     ]
    }
   ],
   "source": [
    "%cd .."
   ]
  },
  {
   "cell_type": "code",
   "execution_count": 295,
   "metadata": {},
   "outputs": [],
   "source": [
    "from sklearn.datasets import load_iris\n",
    "data = load_iris(as_frame=True)['data']\n",
    "data['target'] = load_iris(as_frame=True)['target']"
   ]
  },
  {
   "cell_type": "code",
   "execution_count": 296,
   "metadata": {},
   "outputs": [],
   "source": [
    "from sklearn.linear_model import LogisticRegression\n",
    "\n",
    "X = data.drop('target', axis=1).iloc[:125]\n",
    "y = data['target'].iloc[:125]\n",
    "model = LogisticRegression()\n",
    "model.fit(X, y)\n",
    "prediction1 = model.predict(data.drop('target', axis=1))\n",
    "prediction2 = model.predict_proba(data.drop('target', axis=1))\n",
    "data['prediction'] = prediction1\n",
    "data[[0,1,2]] = prediction2"
   ]
  },
  {
   "cell_type": "code",
   "execution_count": 297,
   "metadata": {},
   "outputs": [],
   "source": [
    "import pandas as pd\n",
    "data2 = pd.DataFrame(prediction2, columns=model.classes_)\n",
    "data2['target'] = data['target']"
   ]
  },
  {
   "cell_type": "code",
   "execution_count": 298,
   "metadata": {},
   "outputs": [],
   "source": [
    "reference = data.iloc[:125]\n",
    "current = data.iloc[125:]"
   ]
  },
  {
   "cell_type": "code",
   "execution_count": 299,
   "metadata": {},
   "outputs": [],
   "source": [
    "labels=[0,1,2]"
   ]
  },
  {
   "cell_type": "markdown",
   "metadata": {},
   "source": [
    "# Kế hoạch\n",
    "Có 2 option để truyền vào column mapping\n",
    "- Kết quả dạng đã chuyển thành predict label\n",
    "- Kết quả dạng xác suất\n"
   ]
  },
  {
   "cell_type": "markdown",
   "metadata": {},
   "source": [
    "## Transformed labels"
   ]
  },
  {
   "cell_type": "markdown",
   "metadata": {},
   "source": [
    "### Utils"
   ]
  },
  {
   "cell_type": "code",
   "execution_count": 257,
   "metadata": {},
   "outputs": [
    {
     "data": {
      "text/plain": [
       "0.9533333333333334"
      ]
     },
     "execution_count": 257,
     "metadata": {},
     "output_type": "execute_result"
    }
   ],
   "source": [
    "from sklearn.metrics import accuracy_score, classification_report, confusion_matrix\n",
    "\n",
    "classification_report(data['target'], data['prediction'], output_dict=True).pop('accuracy')"
   ]
  },
  {
   "cell_type": "code",
   "execution_count": 258,
   "metadata": {},
   "outputs": [
    {
     "data": {
      "text/plain": [
       "{0: {'tp': 0.0, 'tn': 25.0, 'fp': 0.0, 'fn': 0.0},\n",
       " 1: {'tp': 0.0, 'tn': 21.0, 'fp': 4.0, 'fn': 0.0},\n",
       " 2: {'tp': 21.0, 'tn': 0.0, 'fp': 0.0, 'fn': 4.0}}"
      ]
     },
     "execution_count": 258,
     "metadata": {},
     "output_type": "execute_result"
    }
   ],
   "source": [
    "from source.calculator.classification_performance import calculate_confusion_by_classes \n",
    "from sklearn.metrics import confusion_matrix\n",
    "def calculate_confusion_matrix_by_classes(y_true, y_pred):\n",
    "    labels = list(set(data['target']) | set(data['prediction']))\n",
    "    confusion_matrix_inf = confusion_matrix(y_true, y_pred, labels=labels)\n",
    "    return calculate_confusion_by_classes(confusion_matrix_inf, class_names=labels)\n",
    "\n",
    "calculate_confusion_matrix_by_classes(current['target'], current['prediction'])\n"
   ]
  },
  {
   "cell_type": "code",
   "execution_count": 259,
   "metadata": {},
   "outputs": [
    {
     "data": {
      "text/plain": [
       "np.float64(0.9330529677131488)"
      ]
     },
     "execution_count": 259,
     "metadata": {},
     "output_type": "execute_result"
    }
   ],
   "source": [
    "from sklearn.metrics import matthews_corrcoef\n",
    "matthews_corrcoef(data['target'], data['prediction'])"
   ]
  },
  {
   "cell_type": "markdown",
   "metadata": {},
   "source": [
    "### Metrics"
   ]
  },
  {
   "cell_type": "code",
   "execution_count": null,
   "metadata": {},
   "outputs": [],
   "source": [
    "from evidently.base_metric import MetricResult, InputData\n",
    "class MultiClassificationResult(MetricResult):\n",
    "    class Config:\n",
    "        type_alias = \"evidently:metric_result:MultiClassificationResult\"\n",
    "    accuracy: float\n",
    "    confusion_matrix: dict\n",
    "    classification_info: dict\n",
    "    logloss: Optional[float]\n",
    "    roc_auc: Optional[dict]\n",
    "    mattheus_corr_coefficient: float\n",
    "\n",
    "def calculate_multi_classification(\n",
    "    prediction: pd.Series, \n",
    "    target: pd.Series,\n",
    "    prediction_proba: pd.DataFrame = None\n",
    "    ) -> MultiClassificationResult:\n",
    "    # Initialize logloss and roc_auc as None\n",
    "    logloss = None\n",
    "    roc_auc = None\n",
    "    accuracy = accuracy_score(target, prediction)\n",
    "    classification_info = classification_report(target, prediction, output_dict=True)\n",
    "    classification_info.pop('accuracy')\n",
    "    confusion_matrix = calculate_confusion_matrix_by_classes(target, prediction)\n",
    "    mattheus_corr_coefficient = matthews_corrcoef(target, prediction)\n",
    "    if prediction_proba is not None:\n",
    "        roc_auc = {}\n",
    "        roc_auc['ovr'] = float(roc_auc_score(y_true=prediction, y_score=prediction_proba, multi_class='ovr'))\n",
    "        roc_auc['ovo'] = float(roc_auc_score(y_true=prediction, y_score=prediction_proba, multi_class='ovo'))\n",
    "        logloss = log_loss(y_true=prediction, y_pred=prediction_proba)\n",
    "    return MultiClassificationResult(\n",
    "        accuracy = accuracy,\n",
    "        confusion_matrix = confusion_matrix,\n",
    "        classification_info = classification_info,\n",
    "        logloss = logloss,\n",
    "        roc_auc = roc_auc,\n",
    "        mattheus_corr_coefficient = float(mattheus_corr_coefficient)\n",
    "    )"
   ]
  },
  {
   "cell_type": "code",
   "execution_count": 314,
   "metadata": {},
   "outputs": [
    {
     "name": "stderr",
     "output_type": "stream",
     "text": [
      "c:\\Users\\HuyLQ15_CTV\\AppData\\Local\\miniconda3\\envs\\model-monitoring\\lib\\site-packages\\evidently\\pydantic_utils.py:161: UserWarning: Duplicate key (<class 'evidently.base_metric.MetricResult'>, 'evidently:metric_result:MultiClassificationResult') in alias map\n",
      "  warnings.warn(f\"Duplicate key {key} in alias map\")\n",
      "c:\\Users\\HuyLQ15_CTV\\AppData\\Local\\miniconda3\\envs\\model-monitoring\\lib\\site-packages\\evidently\\pydantic_utils.py:161: UserWarning: Duplicate key (<class 'evidently.base_metric.Metric'>, 'evidently:metric:MultiClassificationMetric') in alias map\n",
      "  warnings.warn(f\"Duplicate key {key} in alias map\")\n"
     ]
    }
   ],
   "source": [
    "from typing import Optional\n",
    "from sklearn.metrics import accuracy_score\n",
    "from sklearn.metrics import matthews_corrcoef\n",
    "from evidently.base_metric import Metric\n",
    "from evidently.base_metric import MetricResult, InputData\n",
    "from evidently.utils.data_operations import process_columns\n",
    "from evidently.calculations.classification_performance import get_prediction_data\n",
    "\n",
    "\n",
    "\n",
    "class MultiClassificationMetric(Metric[MultiClassificationResult]):\n",
    "    class Config:\n",
    "        type_alias = \"evidently:metric:MultiClassificationMetric\"\n",
    "    _threshold: float\n",
    "    \n",
    "    def __init__(self, threshold=0.5):\n",
    "        self._threshold = threshold\n",
    "        super().__init__()\n",
    "\n",
    "    def calculate(self, data: InputData) -> MultiClassificationResult:\n",
    "        column_mapping = data.column_mapping\n",
    "        reference = data.reference_data\n",
    "        current = data.current_data\n",
    "\n",
    "        current.columns = current.columns.map(str)\n",
    "        dataset_column = process_columns(current, column_mapping)\n",
    "        prediction_data = get_prediction_data(current, data_columns=dataset_column, pos_label=None, threshold = self._threshold)\n",
    "        prediction_data.predictions = prediction_data.predictions.map(float)\n",
    "        return calculate_multi_classification(\n",
    "            prediction=prediction_data.predictions,\n",
    "            target=current[column_mapping.target],\n",
    "            prediction_proba=prediction_data.prediction_probas\n",
    "        )\n"
   ]
  },
  {
   "cell_type": "code",
   "execution_count": 315,
   "metadata": {},
   "outputs": [],
   "source": [
    "from evidently.renderers.base_renderer import MetricRenderer, default_renderer\n",
    "\n",
    "@default_renderer(wrap_type=MultiClassificationMetric)\n",
    "class MultiClassificationRenders(MetricRenderer):\n",
    "    def render_json(self, obj: MultiClassificationMetric, include_render: bool = False,\n",
    "        include: \"IncludeOptions\" = None, exclude: \"IncludeOptions\" = None,) -> dict:\n",
    "        result = obj.get_result().get_dict(include_render, include, exclude)\n",
    "        return result"
   ]
  },
  {
   "cell_type": "code",
   "execution_count": 316,
   "metadata": {},
   "outputs": [
    {
     "data": {
      "text/html": [
       "<div>\n",
       "<style scoped>\n",
       "    .dataframe tbody tr th:only-of-type {\n",
       "        vertical-align: middle;\n",
       "    }\n",
       "\n",
       "    .dataframe tbody tr th {\n",
       "        vertical-align: top;\n",
       "    }\n",
       "\n",
       "    .dataframe thead th {\n",
       "        text-align: right;\n",
       "    }\n",
       "</style>\n",
       "<table border=\"1\" class=\"dataframe\">\n",
       "  <thead>\n",
       "    <tr style=\"text-align: right;\">\n",
       "      <th></th>\n",
       "      <th>0</th>\n",
       "      <th>1</th>\n",
       "      <th>2</th>\n",
       "    </tr>\n",
       "  </thead>\n",
       "  <tbody>\n",
       "    <tr>\n",
       "      <th>125</th>\n",
       "      <td>0.000012</td>\n",
       "      <td>0.150204</td>\n",
       "      <td>0.849784</td>\n",
       "    </tr>\n",
       "    <tr>\n",
       "      <th>126</th>\n",
       "      <td>0.001227</td>\n",
       "      <td>0.603214</td>\n",
       "      <td>0.395559</td>\n",
       "    </tr>\n",
       "    <tr>\n",
       "      <th>127</th>\n",
       "      <td>0.001229</td>\n",
       "      <td>0.544907</td>\n",
       "      <td>0.453864</td>\n",
       "    </tr>\n",
       "    <tr>\n",
       "      <th>128</th>\n",
       "      <td>0.000023</td>\n",
       "      <td>0.096845</td>\n",
       "      <td>0.903132</td>\n",
       "    </tr>\n",
       "    <tr>\n",
       "      <th>129</th>\n",
       "      <td>0.000032</td>\n",
       "      <td>0.312453</td>\n",
       "      <td>0.687515</td>\n",
       "    </tr>\n",
       "    <tr>\n",
       "      <th>130</th>\n",
       "      <td>0.000003</td>\n",
       "      <td>0.093674</td>\n",
       "      <td>0.906323</td>\n",
       "    </tr>\n",
       "    <tr>\n",
       "      <th>131</th>\n",
       "      <td>0.000002</td>\n",
       "      <td>0.073749</td>\n",
       "      <td>0.926248</td>\n",
       "    </tr>\n",
       "    <tr>\n",
       "      <th>132</th>\n",
       "      <td>0.000018</td>\n",
       "      <td>0.076238</td>\n",
       "      <td>0.923744</td>\n",
       "    </tr>\n",
       "    <tr>\n",
       "      <th>133</th>\n",
       "      <td>0.000617</td>\n",
       "      <td>0.627657</td>\n",
       "      <td>0.371726</td>\n",
       "    </tr>\n",
       "    <tr>\n",
       "      <th>134</th>\n",
       "      <td>0.000098</td>\n",
       "      <td>0.334062</td>\n",
       "      <td>0.665839</td>\n",
       "    </tr>\n",
       "    <tr>\n",
       "      <th>135</th>\n",
       "      <td>0.000001</td>\n",
       "      <td>0.046215</td>\n",
       "      <td>0.953784</td>\n",
       "    </tr>\n",
       "    <tr>\n",
       "      <th>136</th>\n",
       "      <td>0.000028</td>\n",
       "      <td>0.055007</td>\n",
       "      <td>0.944965</td>\n",
       "    </tr>\n",
       "    <tr>\n",
       "      <th>137</th>\n",
       "      <td>0.000120</td>\n",
       "      <td>0.254563</td>\n",
       "      <td>0.745317</td>\n",
       "    </tr>\n",
       "    <tr>\n",
       "      <th>138</th>\n",
       "      <td>0.001843</td>\n",
       "      <td>0.589011</td>\n",
       "      <td>0.409145</td>\n",
       "    </tr>\n",
       "    <tr>\n",
       "      <th>139</th>\n",
       "      <td>0.000077</td>\n",
       "      <td>0.220719</td>\n",
       "      <td>0.779204</td>\n",
       "    </tr>\n",
       "    <tr>\n",
       "      <th>140</th>\n",
       "      <td>0.000016</td>\n",
       "      <td>0.063694</td>\n",
       "      <td>0.936290</td>\n",
       "    </tr>\n",
       "    <tr>\n",
       "      <th>141</th>\n",
       "      <td>0.000177</td>\n",
       "      <td>0.262658</td>\n",
       "      <td>0.737165</td>\n",
       "    </tr>\n",
       "    <tr>\n",
       "      <th>142</th>\n",
       "      <td>0.000363</td>\n",
       "      <td>0.286599</td>\n",
       "      <td>0.713038</td>\n",
       "    </tr>\n",
       "    <tr>\n",
       "      <th>143</th>\n",
       "      <td>0.000006</td>\n",
       "      <td>0.044406</td>\n",
       "      <td>0.955588</td>\n",
       "    </tr>\n",
       "    <tr>\n",
       "      <th>144</th>\n",
       "      <td>0.000010</td>\n",
       "      <td>0.042316</td>\n",
       "      <td>0.957674</td>\n",
       "    </tr>\n",
       "    <tr>\n",
       "      <th>145</th>\n",
       "      <td>0.000107</td>\n",
       "      <td>0.188053</td>\n",
       "      <td>0.811840</td>\n",
       "    </tr>\n",
       "    <tr>\n",
       "      <th>146</th>\n",
       "      <td>0.000316</td>\n",
       "      <td>0.402523</td>\n",
       "      <td>0.597161</td>\n",
       "    </tr>\n",
       "    <tr>\n",
       "      <th>147</th>\n",
       "      <td>0.000225</td>\n",
       "      <td>0.306536</td>\n",
       "      <td>0.693239</td>\n",
       "    </tr>\n",
       "    <tr>\n",
       "      <th>148</th>\n",
       "      <td>0.000096</td>\n",
       "      <td>0.104388</td>\n",
       "      <td>0.895516</td>\n",
       "    </tr>\n",
       "    <tr>\n",
       "      <th>149</th>\n",
       "      <td>0.000658</td>\n",
       "      <td>0.387167</td>\n",
       "      <td>0.612174</td>\n",
       "    </tr>\n",
       "  </tbody>\n",
       "</table>\n",
       "</div>"
      ],
      "text/plain": [
       "            0         1         2\n",
       "125  0.000012  0.150204  0.849784\n",
       "126  0.001227  0.603214  0.395559\n",
       "127  0.001229  0.544907  0.453864\n",
       "128  0.000023  0.096845  0.903132\n",
       "129  0.000032  0.312453  0.687515\n",
       "130  0.000003  0.093674  0.906323\n",
       "131  0.000002  0.073749  0.926248\n",
       "132  0.000018  0.076238  0.923744\n",
       "133  0.000617  0.627657  0.371726\n",
       "134  0.000098  0.334062  0.665839\n",
       "135  0.000001  0.046215  0.953784\n",
       "136  0.000028  0.055007  0.944965\n",
       "137  0.000120  0.254563  0.745317\n",
       "138  0.001843  0.589011  0.409145\n",
       "139  0.000077  0.220719  0.779204\n",
       "140  0.000016  0.063694  0.936290\n",
       "141  0.000177  0.262658  0.737165\n",
       "142  0.000363  0.286599  0.713038\n",
       "143  0.000006  0.044406  0.955588\n",
       "144  0.000010  0.042316  0.957674\n",
       "145  0.000107  0.188053  0.811840\n",
       "146  0.000316  0.402523  0.597161\n",
       "147  0.000225  0.306536  0.693239\n",
       "148  0.000096  0.104388  0.895516\n",
       "149  0.000658  0.387167  0.612174"
      ]
     },
     "execution_count": 316,
     "metadata": {},
     "output_type": "execute_result"
    }
   ],
   "source": [
    "current.columns = current.columns.map(str)\n",
    "column_mapping = ColumnMapping()\n",
    "column_mapping.target = 'target'\n",
    "column_mapping.prediction = ['0','1','2']\n",
    "dataset_column = process_columns(current, column_mapping)\n",
    "prediction_data = get_prediction_data(current, data_columns=dataset_column, pos_label=None, threshold =0.5)\n",
    "prediction_data.prediction_probas"
   ]
  },
  {
   "cell_type": "code",
   "execution_count": 317,
   "metadata": {},
   "outputs": [
    {
     "name": "stderr",
     "output_type": "stream",
     "text": [
      "c:\\Users\\HuyLQ15_CTV\\AppData\\Local\\miniconda3\\envs\\model-monitoring\\lib\\site-packages\\sklearn\\metrics\\_classification.py:1531: UndefinedMetricWarning: Recall is ill-defined and being set to 0.0 in labels with no true samples. Use `zero_division` parameter to control this behavior.\n",
      "  _warn_prf(average, modifier, f\"{metric.capitalize()} is\", len(result))\n",
      "c:\\Users\\HuyLQ15_CTV\\AppData\\Local\\miniconda3\\envs\\model-monitoring\\lib\\site-packages\\sklearn\\metrics\\_classification.py:1531: UndefinedMetricWarning: Recall is ill-defined and being set to 0.0 in labels with no true samples. Use `zero_division` parameter to control this behavior.\n",
      "  _warn_prf(average, modifier, f\"{metric.capitalize()} is\", len(result))\n",
      "c:\\Users\\HuyLQ15_CTV\\AppData\\Local\\miniconda3\\envs\\model-monitoring\\lib\\site-packages\\sklearn\\metrics\\_classification.py:1531: UndefinedMetricWarning: Recall is ill-defined and being set to 0.0 in labels with no true samples. Use `zero_division` parameter to control this behavior.\n",
      "  _warn_prf(average, modifier, f\"{metric.capitalize()} is\", len(result))\n"
     ]
    },
    {
     "ename": "ValueError",
     "evalue": "Number of classes in y_true not equal to the number of columns in 'y_score'",
     "output_type": "error",
     "traceback": [
      "\u001b[1;31m---------------------------------------------------------------------------\u001b[0m",
      "\u001b[1;31mValueError\u001b[0m                                Traceback (most recent call last)",
      "Cell \u001b[1;32mIn[317], line 8\u001b[0m\n\u001b[0;32m      3\u001b[0m report \u001b[38;5;241m=\u001b[39m Report(metrics\u001b[38;5;241m=\u001b[39m[\n\u001b[0;32m      4\u001b[0m     MultiClassificationMetric()\n\u001b[0;32m      5\u001b[0m ])\n\u001b[0;32m      7\u001b[0m report\u001b[38;5;241m.\u001b[39mrun(current_data\u001b[38;5;241m=\u001b[39mcurrent, reference_data\u001b[38;5;241m=\u001b[39m\u001b[38;5;28;01mNone\u001b[39;00m, column_mapping\u001b[38;5;241m=\u001b[39mcolumn_mapping)\n\u001b[1;32m----> 8\u001b[0m \u001b[43mreport\u001b[49m\u001b[38;5;241;43m.\u001b[39;49m\u001b[43mjson\u001b[49m\u001b[43m(\u001b[49m\u001b[43m)\u001b[49m\n",
      "File \u001b[1;32mc:\\Users\\HuyLQ15_CTV\\AppData\\Local\\miniconda3\\envs\\model-monitoring\\lib\\site-packages\\evidently\\suite\\base_suite.py:337\u001b[0m, in \u001b[0;36mDisplay.json\u001b[1;34m(self, include_render, include, exclude, **kwargs)\u001b[0m\n\u001b[0;32m    <a href='file:///c%3A/Users/HuyLQ15_CTV/AppData/Local/miniconda3/envs/model-monitoring/lib/site-packages/evidently/suite/base_suite.py?line=328'>329</a>\u001b[0m \u001b[39mdef\u001b[39;00m \u001b[39mjson\u001b[39m(\n\u001b[0;32m    <a href='file:///c%3A/Users/HuyLQ15_CTV/AppData/Local/miniconda3/envs/model-monitoring/lib/site-packages/evidently/suite/base_suite.py?line=329'>330</a>\u001b[0m     \u001b[39mself\u001b[39m,\n\u001b[0;32m    <a href='file:///c%3A/Users/HuyLQ15_CTV/AppData/Local/miniconda3/envs/model-monitoring/lib/site-packages/evidently/suite/base_suite.py?line=330'>331</a>\u001b[0m     include_render: \u001b[39mbool\u001b[39m \u001b[39m=\u001b[39m \u001b[39mFalse\u001b[39;00m,\n\u001b[1;32m   (...)\u001b[0m\n\u001b[0;32m    <a href='file:///c%3A/Users/HuyLQ15_CTV/AppData/Local/miniconda3/envs/model-monitoring/lib/site-packages/evidently/suite/base_suite.py?line=333'>334</a>\u001b[0m     \u001b[39m*\u001b[39m\u001b[39m*\u001b[39mkwargs,\n\u001b[0;32m    <a href='file:///c%3A/Users/HuyLQ15_CTV/AppData/Local/miniconda3/envs/model-monitoring/lib/site-packages/evidently/suite/base_suite.py?line=334'>335</a>\u001b[0m ) \u001b[39m-\u001b[39m\u001b[39m>\u001b[39m \u001b[39mstr\u001b[39m:\n\u001b[0;32m    <a href='file:///c%3A/Users/HuyLQ15_CTV/AppData/Local/miniconda3/envs/model-monitoring/lib/site-packages/evidently/suite/base_suite.py?line=335'>336</a>\u001b[0m     \u001b[39mreturn\u001b[39;00m json\u001b[39m.\u001b[39mdumps(\n\u001b[1;32m--> <a href='file:///c%3A/Users/HuyLQ15_CTV/AppData/Local/miniconda3/envs/model-monitoring/lib/site-packages/evidently/suite/base_suite.py?line=336'>337</a>\u001b[0m         \u001b[39mself\u001b[39m\u001b[39m.\u001b[39m_get_json_content(\n\u001b[0;32m    <a href='file:///c%3A/Users/HuyLQ15_CTV/AppData/Local/miniconda3/envs/model-monitoring/lib/site-packages/evidently/suite/base_suite.py?line=337'>338</a>\u001b[0m             include_render\u001b[39m=\u001b[39minclude_render,\n\u001b[0;32m    <a href='file:///c%3A/Users/HuyLQ15_CTV/AppData/Local/miniconda3/envs/model-monitoring/lib/site-packages/evidently/suite/base_suite.py?line=338'>339</a>\u001b[0m             include\u001b[39m=\u001b[39minclude,\n\u001b[0;32m    <a href='file:///c%3A/Users/HuyLQ15_CTV/AppData/Local/miniconda3/envs/model-monitoring/lib/site-packages/evidently/suite/base_suite.py?line=339'>340</a>\u001b[0m             exclude\u001b[39m=\u001b[39mexclude,\n\u001b[0;32m    <a href='file:///c%3A/Users/HuyLQ15_CTV/AppData/Local/miniconda3/envs/model-monitoring/lib/site-packages/evidently/suite/base_suite.py?line=340'>341</a>\u001b[0m             \u001b[39m*\u001b[39m\u001b[39m*\u001b[39mkwargs,\n\u001b[0;32m    <a href='file:///c%3A/Users/HuyLQ15_CTV/AppData/Local/miniconda3/envs/model-monitoring/lib/site-packages/evidently/suite/base_suite.py?line=341'>342</a>\u001b[0m         ),\n\u001b[0;32m    <a href='file:///c%3A/Users/HuyLQ15_CTV/AppData/Local/miniconda3/envs/model-monitoring/lib/site-packages/evidently/suite/base_suite.py?line=342'>343</a>\u001b[0m         \u001b[39mcls\u001b[39m\u001b[39m=\u001b[39mNumpyEncoder,\n\u001b[0;32m    <a href='file:///c%3A/Users/HuyLQ15_CTV/AppData/Local/miniconda3/envs/model-monitoring/lib/site-packages/evidently/suite/base_suite.py?line=343'>344</a>\u001b[0m         allow_nan\u001b[39m=\u001b[39m\u001b[39mTrue\u001b[39;00m,\n\u001b[0;32m    <a href='file:///c%3A/Users/HuyLQ15_CTV/AppData/Local/miniconda3/envs/model-monitoring/lib/site-packages/evidently/suite/base_suite.py?line=344'>345</a>\u001b[0m     )\n",
      "File \u001b[1;32mc:\\Users\\HuyLQ15_CTV\\AppData\\Local\\miniconda3\\envs\\model-monitoring\\lib\\site-packages\\evidently\\suite\\base_suite.py:590\u001b[0m, in \u001b[0;36mReportBase._get_json_content\u001b[1;34m(self, include_render, include, exclude, **kwargs)\u001b[0m\n\u001b[0;32m    <a href='file:///c%3A/Users/HuyLQ15_CTV/AppData/Local/miniconda3/envs/model-monitoring/lib/site-packages/evidently/suite/base_suite.py?line=582'>583</a>\u001b[0m \u001b[39mdef\u001b[39;00m \u001b[39m_get_json_content\u001b[39m(\n\u001b[0;32m    <a href='file:///c%3A/Users/HuyLQ15_CTV/AppData/Local/miniconda3/envs/model-monitoring/lib/site-packages/evidently/suite/base_suite.py?line=583'>584</a>\u001b[0m     \u001b[39mself\u001b[39m,\n\u001b[0;32m    <a href='file:///c%3A/Users/HuyLQ15_CTV/AppData/Local/miniconda3/envs/model-monitoring/lib/site-packages/evidently/suite/base_suite.py?line=584'>585</a>\u001b[0m     include_render: \u001b[39mbool\u001b[39m \u001b[39m=\u001b[39m \u001b[39mFalse\u001b[39;00m,\n\u001b[1;32m   (...)\u001b[0m\n\u001b[0;32m    <a href='file:///c%3A/Users/HuyLQ15_CTV/AppData/Local/miniconda3/envs/model-monitoring/lib/site-packages/evidently/suite/base_suite.py?line=587'>588</a>\u001b[0m     \u001b[39m*\u001b[39m\u001b[39m*\u001b[39mkwargs,\n\u001b[0;32m    <a href='file:///c%3A/Users/HuyLQ15_CTV/AppData/Local/miniconda3/envs/model-monitoring/lib/site-packages/evidently/suite/base_suite.py?line=588'>589</a>\u001b[0m ) \u001b[39m-\u001b[39m\u001b[39m>\u001b[39m \u001b[39mdict\u001b[39m:\n\u001b[1;32m--> <a href='file:///c%3A/Users/HuyLQ15_CTV/AppData/Local/miniconda3/envs/model-monitoring/lib/site-packages/evidently/suite/base_suite.py?line=589'>590</a>\u001b[0m     res \u001b[39m=\u001b[39m \u001b[39msuper\u001b[39m()\u001b[39m.\u001b[39m_get_json_content(include_render, include, exclude, \u001b[39m*\u001b[39m\u001b[39m*\u001b[39mkwargs)\n\u001b[0;32m    <a href='file:///c%3A/Users/HuyLQ15_CTV/AppData/Local/miniconda3/envs/model-monitoring/lib/site-packages/evidently/suite/base_suite.py?line=590'>591</a>\u001b[0m     res[\u001b[39m\"\u001b[39m\u001b[39mtimestamp\u001b[39m\u001b[39m\"\u001b[39m] \u001b[39m=\u001b[39m \u001b[39mstr\u001b[39m(\u001b[39mself\u001b[39m\u001b[39m.\u001b[39mtimestamp)\n\u001b[0;32m    <a href='file:///c%3A/Users/HuyLQ15_CTV/AppData/Local/miniconda3/envs/model-monitoring/lib/site-packages/evidently/suite/base_suite.py?line=591'>592</a>\u001b[0m     \u001b[39mreturn\u001b[39;00m res\n",
      "File \u001b[1;32mc:\\Users\\HuyLQ15_CTV\\AppData\\Local\\miniconda3\\envs\\model-monitoring\\lib\\site-packages\\evidently\\suite\\base_suite.py:320\u001b[0m, in \u001b[0;36mDisplay._get_json_content\u001b[1;34m(self, include_render, include, exclude, **kwargs)\u001b[0m\n\u001b[0;32m    <a href='file:///c%3A/Users/HuyLQ15_CTV/AppData/Local/miniconda3/envs/model-monitoring/lib/site-packages/evidently/suite/base_suite.py?line=316'>317</a>\u001b[0m \u001b[39m\u001b[39m\u001b[39m\"\"\"Return all data for json representation\"\"\"\u001b[39;00m\n\u001b[0;32m    <a href='file:///c%3A/Users/HuyLQ15_CTV/AppData/Local/miniconda3/envs/model-monitoring/lib/site-packages/evidently/suite/base_suite.py?line=317'>318</a>\u001b[0m result \u001b[39m=\u001b[39m {\u001b[39m\"\u001b[39m\u001b[39mversion\u001b[39m\u001b[39m\"\u001b[39m: evidently\u001b[39m.\u001b[39m__version__}\n\u001b[0;32m    <a href='file:///c%3A/Users/HuyLQ15_CTV/AppData/Local/miniconda3/envs/model-monitoring/lib/site-packages/evidently/suite/base_suite.py?line=318'>319</a>\u001b[0m result\u001b[39m.\u001b[39mupdate(\n\u001b[1;32m--> <a href='file:///c%3A/Users/HuyLQ15_CTV/AppData/Local/miniconda3/envs/model-monitoring/lib/site-packages/evidently/suite/base_suite.py?line=319'>320</a>\u001b[0m     \u001b[39mself\u001b[39m\u001b[39m.\u001b[39mas_dict(\n\u001b[0;32m    <a href='file:///c%3A/Users/HuyLQ15_CTV/AppData/Local/miniconda3/envs/model-monitoring/lib/site-packages/evidently/suite/base_suite.py?line=320'>321</a>\u001b[0m         include_render\u001b[39m=\u001b[39minclude_render,\n\u001b[0;32m    <a href='file:///c%3A/Users/HuyLQ15_CTV/AppData/Local/miniconda3/envs/model-monitoring/lib/site-packages/evidently/suite/base_suite.py?line=321'>322</a>\u001b[0m         include\u001b[39m=\u001b[39minclude,\n\u001b[0;32m    <a href='file:///c%3A/Users/HuyLQ15_CTV/AppData/Local/miniconda3/envs/model-monitoring/lib/site-packages/evidently/suite/base_suite.py?line=322'>323</a>\u001b[0m         exclude\u001b[39m=\u001b[39mexclude,\n\u001b[0;32m    <a href='file:///c%3A/Users/HuyLQ15_CTV/AppData/Local/miniconda3/envs/model-monitoring/lib/site-packages/evidently/suite/base_suite.py?line=323'>324</a>\u001b[0m         \u001b[39m*\u001b[39m\u001b[39m*\u001b[39mkwargs,\n\u001b[0;32m    <a href='file:///c%3A/Users/HuyLQ15_CTV/AppData/Local/miniconda3/envs/model-monitoring/lib/site-packages/evidently/suite/base_suite.py?line=324'>325</a>\u001b[0m     )\n\u001b[0;32m    <a href='file:///c%3A/Users/HuyLQ15_CTV/AppData/Local/miniconda3/envs/model-monitoring/lib/site-packages/evidently/suite/base_suite.py?line=325'>326</a>\u001b[0m )\n\u001b[0;32m    <a href='file:///c%3A/Users/HuyLQ15_CTV/AppData/Local/miniconda3/envs/model-monitoring/lib/site-packages/evidently/suite/base_suite.py?line=326'>327</a>\u001b[0m \u001b[39mreturn\u001b[39;00m result\n",
      "File \u001b[1;32mc:\\Users\\HuyLQ15_CTV\\AppData\\Local\\miniconda3\\envs\\model-monitoring\\lib\\site-packages\\evidently\\report\\report.py:185\u001b[0m, in \u001b[0;36mReport.as_dict\u001b[1;34m(self, include_render, include, exclude, **kwargs)\u001b[0m\n\u001b[0;32m    <a href='file:///c%3A/Users/HuyLQ15_CTV/AppData/Local/miniconda3/envs/model-monitoring/lib/site-packages/evidently/report/report.py?line=179'>180</a>\u001b[0m     renderer \u001b[39m=\u001b[39m find_metric_renderer(\u001b[39mtype\u001b[39m(metric), \u001b[39mself\u001b[39m\u001b[39m.\u001b[39m_inner_suite\u001b[39m.\u001b[39mcontext\u001b[39m.\u001b[39mrenderers)\n\u001b[0;32m    <a href='file:///c%3A/Users/HuyLQ15_CTV/AppData/Local/miniconda3/envs/model-monitoring/lib/site-packages/evidently/report/report.py?line=180'>181</a>\u001b[0m     metric_id \u001b[39m=\u001b[39m metric\u001b[39m.\u001b[39mget_id()\n\u001b[0;32m    <a href='file:///c%3A/Users/HuyLQ15_CTV/AppData/Local/miniconda3/envs/model-monitoring/lib/site-packages/evidently/report/report.py?line=181'>182</a>\u001b[0m     metrics\u001b[39m.\u001b[39mappend(\n\u001b[0;32m    <a href='file:///c%3A/Users/HuyLQ15_CTV/AppData/Local/miniconda3/envs/model-monitoring/lib/site-packages/evidently/report/report.py?line=182'>183</a>\u001b[0m         {\n\u001b[0;32m    <a href='file:///c%3A/Users/HuyLQ15_CTV/AppData/Local/miniconda3/envs/model-monitoring/lib/site-packages/evidently/report/report.py?line=183'>184</a>\u001b[0m             \u001b[39m\"\u001b[39m\u001b[39mmetric\u001b[39m\u001b[39m\"\u001b[39m: metric_id,\n\u001b[1;32m--> <a href='file:///c%3A/Users/HuyLQ15_CTV/AppData/Local/miniconda3/envs/model-monitoring/lib/site-packages/evidently/report/report.py?line=184'>185</a>\u001b[0m             \u001b[39m\"\u001b[39m\u001b[39mresult\u001b[39m\u001b[39m\"\u001b[39m: renderer\u001b[39m.\u001b[39;49mrender_json(\n\u001b[0;32m    <a href='file:///c%3A/Users/HuyLQ15_CTV/AppData/Local/miniconda3/envs/model-monitoring/lib/site-packages/evidently/report/report.py?line=185'>186</a>\u001b[0m                 metric,\n\u001b[0;32m    <a href='file:///c%3A/Users/HuyLQ15_CTV/AppData/Local/miniconda3/envs/model-monitoring/lib/site-packages/evidently/report/report.py?line=186'>187</a>\u001b[0m                 include_render\u001b[39m=\u001b[39;49minclude_render,\n\u001b[0;32m    <a href='file:///c%3A/Users/HuyLQ15_CTV/AppData/Local/miniconda3/envs/model-monitoring/lib/site-packages/evidently/report/report.py?line=187'>188</a>\u001b[0m                 include\u001b[39m=\u001b[39;49minclude\u001b[39m.\u001b[39;49mget(metric_id),\n\u001b[0;32m    <a href='file:///c%3A/Users/HuyLQ15_CTV/AppData/Local/miniconda3/envs/model-monitoring/lib/site-packages/evidently/report/report.py?line=188'>189</a>\u001b[0m                 exclude\u001b[39m=\u001b[39;49mexclude\u001b[39m.\u001b[39;49mget(metric_id),\n\u001b[0;32m    <a href='file:///c%3A/Users/HuyLQ15_CTV/AppData/Local/miniconda3/envs/model-monitoring/lib/site-packages/evidently/report/report.py?line=189'>190</a>\u001b[0m             ),\n\u001b[0;32m    <a href='file:///c%3A/Users/HuyLQ15_CTV/AppData/Local/miniconda3/envs/model-monitoring/lib/site-packages/evidently/report/report.py?line=190'>191</a>\u001b[0m         }\n\u001b[0;32m    <a href='file:///c%3A/Users/HuyLQ15_CTV/AppData/Local/miniconda3/envs/model-monitoring/lib/site-packages/evidently/report/report.py?line=191'>192</a>\u001b[0m     )\n\u001b[0;32m    <a href='file:///c%3A/Users/HuyLQ15_CTV/AppData/Local/miniconda3/envs/model-monitoring/lib/site-packages/evidently/report/report.py?line=193'>194</a>\u001b[0m \u001b[39mreturn\u001b[39;00m {\n\u001b[0;32m    <a href='file:///c%3A/Users/HuyLQ15_CTV/AppData/Local/miniconda3/envs/model-monitoring/lib/site-packages/evidently/report/report.py?line=194'>195</a>\u001b[0m     \u001b[39m\"\u001b[39m\u001b[39mmetrics\u001b[39m\u001b[39m\"\u001b[39m: metrics,\n\u001b[0;32m    <a href='file:///c%3A/Users/HuyLQ15_CTV/AppData/Local/miniconda3/envs/model-monitoring/lib/site-packages/evidently/report/report.py?line=195'>196</a>\u001b[0m }\n",
      "Cell \u001b[1;32mIn[315], line 7\u001b[0m, in \u001b[0;36mMultiClassificationRenders.render_json\u001b[1;34m(self, obj, include_render, include, exclude)\u001b[0m\n\u001b[0;32m      5\u001b[0m \u001b[38;5;28;01mdef\u001b[39;00m \u001b[38;5;21mrender_json\u001b[39m(\u001b[38;5;28mself\u001b[39m, obj: MultiClassificationMetric, include_render: \u001b[38;5;28mbool\u001b[39m \u001b[38;5;241m=\u001b[39m \u001b[38;5;28;01mFalse\u001b[39;00m,\n\u001b[0;32m      6\u001b[0m     include: \u001b[38;5;124m\"\u001b[39m\u001b[38;5;124mIncludeOptions\u001b[39m\u001b[38;5;124m\"\u001b[39m \u001b[38;5;241m=\u001b[39m \u001b[38;5;28;01mNone\u001b[39;00m, exclude: \u001b[38;5;124m\"\u001b[39m\u001b[38;5;124mIncludeOptions\u001b[39m\u001b[38;5;124m\"\u001b[39m \u001b[38;5;241m=\u001b[39m \u001b[38;5;28;01mNone\u001b[39;00m,) \u001b[38;5;241m-\u001b[39m\u001b[38;5;241m>\u001b[39m \u001b[38;5;28mdict\u001b[39m:\n\u001b[1;32m----> 7\u001b[0m     result \u001b[38;5;241m=\u001b[39m \u001b[43mobj\u001b[49m\u001b[38;5;241;43m.\u001b[39;49m\u001b[43mget_result\u001b[49m\u001b[43m(\u001b[49m\u001b[43m)\u001b[49m\u001b[38;5;241m.\u001b[39mget_dict(include_render, include, exclude)\n\u001b[0;32m      8\u001b[0m     \u001b[38;5;28;01mreturn\u001b[39;00m result\n",
      "File \u001b[1;32mc:\\Users\\HuyLQ15_CTV\\AppData\\Local\\miniconda3\\envs\\model-monitoring\\lib\\site-packages\\evidently\\base_metric.py:276\u001b[0m, in \u001b[0;36mMetric.get_result\u001b[1;34m(self)\u001b[0m\n\u001b[0;32m    <a href='file:///c%3A/Users/HuyLQ15_CTV/AppData/Local/miniconda3/envs/model-monitoring/lib/site-packages/evidently/base_metric.py?line=273'>274</a>\u001b[0m result \u001b[39m=\u001b[39m \u001b[39mself\u001b[39m\u001b[39m.\u001b[39m_context\u001b[39m.\u001b[39mmetric_results\u001b[39m.\u001b[39mget(\u001b[39mself\u001b[39m, \u001b[39mNone\u001b[39;00m)\n\u001b[0;32m    <a href='file:///c%3A/Users/HuyLQ15_CTV/AppData/Local/miniconda3/envs/model-monitoring/lib/site-packages/evidently/base_metric.py?line=274'>275</a>\u001b[0m \u001b[39mif\u001b[39;00m \u001b[39misinstance\u001b[39m(result, ErrorResult):\n\u001b[1;32m--> <a href='file:///c%3A/Users/HuyLQ15_CTV/AppData/Local/miniconda3/envs/model-monitoring/lib/site-packages/evidently/base_metric.py?line=275'>276</a>\u001b[0m     \u001b[39mraise\u001b[39;00m result\u001b[39m.\u001b[39mexception\n\u001b[0;32m    <a href='file:///c%3A/Users/HuyLQ15_CTV/AppData/Local/miniconda3/envs/model-monitoring/lib/site-packages/evidently/base_metric.py?line=276'>277</a>\u001b[0m \u001b[39mif\u001b[39;00m result \u001b[39mis\u001b[39;00m \u001b[39mNone\u001b[39;00m:\n\u001b[0;32m    <a href='file:///c%3A/Users/HuyLQ15_CTV/AppData/Local/miniconda3/envs/model-monitoring/lib/site-packages/evidently/base_metric.py?line=277'>278</a>\u001b[0m     \u001b[39mraise\u001b[39;00m \u001b[39mValueError\u001b[39;00m(\u001b[39mf\u001b[39m\u001b[39m\"\u001b[39m\u001b[39mNo result found for metric \u001b[39m\u001b[39m{\u001b[39;00m\u001b[39mself\u001b[39m\u001b[39m}\u001b[39;00m\u001b[39m of type \u001b[39m\u001b[39m{\u001b[39;00m\u001b[39mtype\u001b[39m(\u001b[39mself\u001b[39m)\u001b[39m.\u001b[39m\u001b[39m__name__\u001b[39m\u001b[39m}\u001b[39;00m\u001b[39m\"\u001b[39m)\n",
      "File \u001b[1;32mc:\\Users\\HuyLQ15_CTV\\AppData\\Local\\miniconda3\\envs\\model-monitoring\\lib\\site-packages\\evidently\\calculation_engine\\engine.py:72\u001b[0m, in \u001b[0;36mEngine.execute_metrics\u001b[1;34m(self, context, data)\u001b[0m\n\u001b[0;32m     <a href='file:///c%3A/Users/HuyLQ15_CTV/AppData/Local/miniconda3/envs/model-monitoring/lib/site-packages/evidently/calculation_engine/engine.py?line=69'>70</a>\u001b[0m logging\u001b[39m.\u001b[39mdebug(\u001b[39mf\u001b[39m\u001b[39m\"\u001b[39m\u001b[39mExecuting \u001b[39m\u001b[39m{\u001b[39;00m\u001b[39mtype\u001b[39m(calculation)\u001b[39m}\u001b[39;00m\u001b[39m...\u001b[39m\u001b[39m\"\u001b[39m)\n\u001b[0;32m     <a href='file:///c%3A/Users/HuyLQ15_CTV/AppData/Local/miniconda3/envs/model-monitoring/lib/site-packages/evidently/calculation_engine/engine.py?line=70'>71</a>\u001b[0m \u001b[39mtry\u001b[39;00m:\n\u001b[1;32m---> <a href='file:///c%3A/Users/HuyLQ15_CTV/AppData/Local/miniconda3/envs/model-monitoring/lib/site-packages/evidently/calculation_engine/engine.py?line=71'>72</a>\u001b[0m     calculations[metric] \u001b[39m=\u001b[39m calculation\u001b[39m.\u001b[39;49mcalculate(context, converted_data)\n\u001b[0;32m     <a href='file:///c%3A/Users/HuyLQ15_CTV/AppData/Local/miniconda3/envs/model-monitoring/lib/site-packages/evidently/calculation_engine/engine.py?line=72'>73</a>\u001b[0m \u001b[39mexcept\u001b[39;00m \u001b[39mBaseException\u001b[39;00m \u001b[39mas\u001b[39;00m ex:\n\u001b[0;32m     <a href='file:///c%3A/Users/HuyLQ15_CTV/AppData/Local/miniconda3/envs/model-monitoring/lib/site-packages/evidently/calculation_engine/engine.py?line=73'>74</a>\u001b[0m     calculations[metric] \u001b[39m=\u001b[39m ErrorResult(exception\u001b[39m=\u001b[39mex)\n",
      "File \u001b[1;32mc:\\Users\\HuyLQ15_CTV\\AppData\\Local\\miniconda3\\envs\\model-monitoring\\lib\\site-packages\\evidently\\calculation_engine\\python_engine.py:101\u001b[0m, in \u001b[0;36mPythonEngine.get_metric_implementation.<locals>._Wrapper.calculate\u001b[1;34m(self, context, data)\u001b[0m\n\u001b[0;32m    <a href='file:///c%3A/Users/HuyLQ15_CTV/AppData/Local/miniconda3/envs/model-monitoring/lib/site-packages/evidently/calculation_engine/python_engine.py?line=99'>100</a>\u001b[0m \u001b[39mdef\u001b[39;00m \u001b[39mcalculate\u001b[39m(\u001b[39mself\u001b[39m, context, data: InputData):\n\u001b[1;32m--> <a href='file:///c%3A/Users/HuyLQ15_CTV/AppData/Local/miniconda3/envs/model-monitoring/lib/site-packages/evidently/calculation_engine/python_engine.py?line=100'>101</a>\u001b[0m     \u001b[39mreturn\u001b[39;00m \u001b[39mself\u001b[39;49m\u001b[39m.\u001b[39;49mmetric\u001b[39m.\u001b[39;49mcalculate(data)\n",
      "Cell \u001b[1;32mIn[314], line 37\u001b[0m, in \u001b[0;36mMultiClassificationMetric.calculate\u001b[1;34m(self, data)\u001b[0m\n\u001b[0;32m     35\u001b[0m prediction_data \u001b[38;5;241m=\u001b[39m get_prediction_data(current, data_columns\u001b[38;5;241m=\u001b[39mdataset_column, pos_label\u001b[38;5;241m=\u001b[39m\u001b[38;5;28;01mNone\u001b[39;00m, threshold \u001b[38;5;241m=\u001b[39m \u001b[38;5;28mself\u001b[39m\u001b[38;5;241m.\u001b[39m_threshold)\n\u001b[0;32m     36\u001b[0m prediction_data\u001b[38;5;241m.\u001b[39mpredictions \u001b[38;5;241m=\u001b[39m prediction_data\u001b[38;5;241m.\u001b[39mpredictions\u001b[38;5;241m.\u001b[39mmap(\u001b[38;5;28mfloat\u001b[39m)\n\u001b[1;32m---> 37\u001b[0m \u001b[38;5;28;01mreturn\u001b[39;00m \u001b[38;5;28;43mself\u001b[39;49m\u001b[38;5;241;43m.\u001b[39;49m\u001b[43mcalculate_multi_classification\u001b[49m\u001b[43m(\u001b[49m\n\u001b[0;32m     38\u001b[0m \u001b[43m    \u001b[49m\u001b[43mprediction\u001b[49m\u001b[38;5;241;43m=\u001b[39;49m\u001b[43mprediction_data\u001b[49m\u001b[38;5;241;43m.\u001b[39;49m\u001b[43mpredictions\u001b[49m\u001b[43m,\u001b[49m\n\u001b[0;32m     39\u001b[0m \u001b[43m    \u001b[49m\u001b[43mtarget\u001b[49m\u001b[38;5;241;43m=\u001b[39;49m\u001b[43mcurrent\u001b[49m\u001b[43m[\u001b[49m\u001b[43mcolumn_mapping\u001b[49m\u001b[38;5;241;43m.\u001b[39;49m\u001b[43mtarget\u001b[49m\u001b[43m]\u001b[49m\u001b[43m,\u001b[49m\n\u001b[0;32m     40\u001b[0m \u001b[43m    \u001b[49m\u001b[43mprediction_proba\u001b[49m\u001b[38;5;241;43m=\u001b[39;49m\u001b[43mprediction_data\u001b[49m\u001b[38;5;241;43m.\u001b[39;49m\u001b[43mprediction_probas\u001b[49m\n\u001b[0;32m     41\u001b[0m \u001b[43m\u001b[49m\u001b[43m)\u001b[49m\n",
      "Cell \u001b[1;32mIn[314], line 59\u001b[0m, in \u001b[0;36mMultiClassificationMetric.calculate_multi_classification\u001b[1;34m(self, prediction, target, prediction_proba)\u001b[0m\n\u001b[0;32m     57\u001b[0m \u001b[38;5;28;01mif\u001b[39;00m prediction_proba \u001b[38;5;129;01mis\u001b[39;00m \u001b[38;5;129;01mnot\u001b[39;00m \u001b[38;5;28;01mNone\u001b[39;00m:\n\u001b[0;32m     58\u001b[0m     roc_auc \u001b[38;5;241m=\u001b[39m {}\n\u001b[1;32m---> 59\u001b[0m     roc_auc[\u001b[38;5;124m'\u001b[39m\u001b[38;5;124movr\u001b[39m\u001b[38;5;124m'\u001b[39m] \u001b[38;5;241m=\u001b[39m \u001b[38;5;28mfloat\u001b[39m(\u001b[43mroc_auc_score\u001b[49m\u001b[43m(\u001b[49m\u001b[43my_true\u001b[49m\u001b[38;5;241;43m=\u001b[39;49m\u001b[43mprediction\u001b[49m\u001b[43m,\u001b[49m\u001b[43m \u001b[49m\u001b[43my_score\u001b[49m\u001b[38;5;241;43m=\u001b[39;49m\u001b[43mprediction_proba\u001b[49m\u001b[43m,\u001b[49m\u001b[43m \u001b[49m\u001b[43mmulti_class\u001b[49m\u001b[38;5;241;43m=\u001b[39;49m\u001b[38;5;124;43m'\u001b[39;49m\u001b[38;5;124;43movr\u001b[39;49m\u001b[38;5;124;43m'\u001b[39;49m\u001b[43m)\u001b[49m)\n\u001b[0;32m     60\u001b[0m     roc_auc[\u001b[38;5;124m'\u001b[39m\u001b[38;5;124movo\u001b[39m\u001b[38;5;124m'\u001b[39m] \u001b[38;5;241m=\u001b[39m \u001b[38;5;28mfloat\u001b[39m(roc_auc_score(y_true\u001b[38;5;241m=\u001b[39mprediction, y_score\u001b[38;5;241m=\u001b[39mprediction_proba, multi_class\u001b[38;5;241m=\u001b[39m\u001b[38;5;124m'\u001b[39m\u001b[38;5;124movo\u001b[39m\u001b[38;5;124m'\u001b[39m))\n\u001b[0;32m     61\u001b[0m     logloss \u001b[38;5;241m=\u001b[39m log_loss(y_true\u001b[38;5;241m=\u001b[39mprediction, y_pred\u001b[38;5;241m=\u001b[39mprediction_proba)\n",
      "File \u001b[1;32mc:\\Users\\HuyLQ15_CTV\\AppData\\Local\\miniconda3\\envs\\model-monitoring\\lib\\site-packages\\sklearn\\utils\\_param_validation.py:213\u001b[0m, in \u001b[0;36mvalidate_params.<locals>.decorator.<locals>.wrapper\u001b[1;34m(*args, **kwargs)\u001b[0m\n\u001b[0;32m    <a href='file:///c%3A/Users/HuyLQ15_CTV/AppData/Local/miniconda3/envs/model-monitoring/lib/site-packages/sklearn/utils/_param_validation.py?line=206'>207</a>\u001b[0m \u001b[39mtry\u001b[39;00m:\n\u001b[0;32m    <a href='file:///c%3A/Users/HuyLQ15_CTV/AppData/Local/miniconda3/envs/model-monitoring/lib/site-packages/sklearn/utils/_param_validation.py?line=207'>208</a>\u001b[0m     \u001b[39mwith\u001b[39;00m config_context(\n\u001b[0;32m    <a href='file:///c%3A/Users/HuyLQ15_CTV/AppData/Local/miniconda3/envs/model-monitoring/lib/site-packages/sklearn/utils/_param_validation.py?line=208'>209</a>\u001b[0m         skip_parameter_validation\u001b[39m=\u001b[39m(\n\u001b[0;32m    <a href='file:///c%3A/Users/HuyLQ15_CTV/AppData/Local/miniconda3/envs/model-monitoring/lib/site-packages/sklearn/utils/_param_validation.py?line=209'>210</a>\u001b[0m             prefer_skip_nested_validation \u001b[39mor\u001b[39;00m global_skip_validation\n\u001b[0;32m    <a href='file:///c%3A/Users/HuyLQ15_CTV/AppData/Local/miniconda3/envs/model-monitoring/lib/site-packages/sklearn/utils/_param_validation.py?line=210'>211</a>\u001b[0m         )\n\u001b[0;32m    <a href='file:///c%3A/Users/HuyLQ15_CTV/AppData/Local/miniconda3/envs/model-monitoring/lib/site-packages/sklearn/utils/_param_validation.py?line=211'>212</a>\u001b[0m     ):\n\u001b[1;32m--> <a href='file:///c%3A/Users/HuyLQ15_CTV/AppData/Local/miniconda3/envs/model-monitoring/lib/site-packages/sklearn/utils/_param_validation.py?line=212'>213</a>\u001b[0m         \u001b[39mreturn\u001b[39;00m func(\u001b[39m*\u001b[39margs, \u001b[39m*\u001b[39m\u001b[39m*\u001b[39mkwargs)\n\u001b[0;32m    <a href='file:///c%3A/Users/HuyLQ15_CTV/AppData/Local/miniconda3/envs/model-monitoring/lib/site-packages/sklearn/utils/_param_validation.py?line=213'>214</a>\u001b[0m \u001b[39mexcept\u001b[39;00m InvalidParameterError \u001b[39mas\u001b[39;00m e:\n\u001b[0;32m    <a href='file:///c%3A/Users/HuyLQ15_CTV/AppData/Local/miniconda3/envs/model-monitoring/lib/site-packages/sklearn/utils/_param_validation.py?line=214'>215</a>\u001b[0m     \u001b[39m# When the function is just a wrapper around an estimator, we allow\u001b[39;00m\n\u001b[0;32m    <a href='file:///c%3A/Users/HuyLQ15_CTV/AppData/Local/miniconda3/envs/model-monitoring/lib/site-packages/sklearn/utils/_param_validation.py?line=215'>216</a>\u001b[0m     \u001b[39m# the function to delegate validation to the estimator, but we replace\u001b[39;00m\n\u001b[0;32m    <a href='file:///c%3A/Users/HuyLQ15_CTV/AppData/Local/miniconda3/envs/model-monitoring/lib/site-packages/sklearn/utils/_param_validation.py?line=216'>217</a>\u001b[0m     \u001b[39m# the name of the estimator by the name of the function in the error\u001b[39;00m\n\u001b[0;32m    <a href='file:///c%3A/Users/HuyLQ15_CTV/AppData/Local/miniconda3/envs/model-monitoring/lib/site-packages/sklearn/utils/_param_validation.py?line=217'>218</a>\u001b[0m     \u001b[39m# message to avoid confusion.\u001b[39;00m\n\u001b[0;32m    <a href='file:///c%3A/Users/HuyLQ15_CTV/AppData/Local/miniconda3/envs/model-monitoring/lib/site-packages/sklearn/utils/_param_validation.py?line=218'>219</a>\u001b[0m     msg \u001b[39m=\u001b[39m re\u001b[39m.\u001b[39msub(\n\u001b[0;32m    <a href='file:///c%3A/Users/HuyLQ15_CTV/AppData/Local/miniconda3/envs/model-monitoring/lib/site-packages/sklearn/utils/_param_validation.py?line=219'>220</a>\u001b[0m         \u001b[39mr\u001b[39m\u001b[39m\"\u001b[39m\u001b[39mparameter of \u001b[39m\u001b[39m\\\u001b[39m\u001b[39mw+ must be\u001b[39m\u001b[39m\"\u001b[39m,\n\u001b[0;32m    <a href='file:///c%3A/Users/HuyLQ15_CTV/AppData/Local/miniconda3/envs/model-monitoring/lib/site-packages/sklearn/utils/_param_validation.py?line=220'>221</a>\u001b[0m         \u001b[39mf\u001b[39m\u001b[39m\"\u001b[39m\u001b[39mparameter of \u001b[39m\u001b[39m{\u001b[39;00mfunc\u001b[39m.\u001b[39m\u001b[39m__qualname__\u001b[39m\u001b[39m}\u001b[39;00m\u001b[39m must be\u001b[39m\u001b[39m\"\u001b[39m,\n\u001b[0;32m    <a href='file:///c%3A/Users/HuyLQ15_CTV/AppData/Local/miniconda3/envs/model-monitoring/lib/site-packages/sklearn/utils/_param_validation.py?line=221'>222</a>\u001b[0m         \u001b[39mstr\u001b[39m(e),\n\u001b[0;32m    <a href='file:///c%3A/Users/HuyLQ15_CTV/AppData/Local/miniconda3/envs/model-monitoring/lib/site-packages/sklearn/utils/_param_validation.py?line=222'>223</a>\u001b[0m     )\n",
      "File \u001b[1;32mc:\\Users\\HuyLQ15_CTV\\AppData\\Local\\miniconda3\\envs\\model-monitoring\\lib\\site-packages\\sklearn\\metrics\\_ranking.py:634\u001b[0m, in \u001b[0;36mroc_auc_score\u001b[1;34m(y_true, y_score, average, sample_weight, max_fpr, multi_class, labels)\u001b[0m\n\u001b[0;32m    <a href='file:///c%3A/Users/HuyLQ15_CTV/AppData/Local/miniconda3/envs/model-monitoring/lib/site-packages/sklearn/metrics/_ranking.py?line=631'>632</a>\u001b[0m     \u001b[39mif\u001b[39;00m multi_class \u001b[39m==\u001b[39m \u001b[39m\"\u001b[39m\u001b[39mraise\u001b[39m\u001b[39m\"\u001b[39m:\n\u001b[0;32m    <a href='file:///c%3A/Users/HuyLQ15_CTV/AppData/Local/miniconda3/envs/model-monitoring/lib/site-packages/sklearn/metrics/_ranking.py?line=632'>633</a>\u001b[0m         \u001b[39mraise\u001b[39;00m \u001b[39mValueError\u001b[39;00m(\u001b[39m\"\u001b[39m\u001b[39mmulti_class must be in (\u001b[39m\u001b[39m'\u001b[39m\u001b[39movo\u001b[39m\u001b[39m'\u001b[39m\u001b[39m, \u001b[39m\u001b[39m'\u001b[39m\u001b[39movr\u001b[39m\u001b[39m'\u001b[39m\u001b[39m)\u001b[39m\u001b[39m\"\u001b[39m)\n\u001b[1;32m--> <a href='file:///c%3A/Users/HuyLQ15_CTV/AppData/Local/miniconda3/envs/model-monitoring/lib/site-packages/sklearn/metrics/_ranking.py?line=633'>634</a>\u001b[0m     \u001b[39mreturn\u001b[39;00m _multiclass_roc_auc_score(\n\u001b[0;32m    <a href='file:///c%3A/Users/HuyLQ15_CTV/AppData/Local/miniconda3/envs/model-monitoring/lib/site-packages/sklearn/metrics/_ranking.py?line=634'>635</a>\u001b[0m         y_true, y_score, labels, multi_class, average, sample_weight\n\u001b[0;32m    <a href='file:///c%3A/Users/HuyLQ15_CTV/AppData/Local/miniconda3/envs/model-monitoring/lib/site-packages/sklearn/metrics/_ranking.py?line=635'>636</a>\u001b[0m     )\n\u001b[0;32m    <a href='file:///c%3A/Users/HuyLQ15_CTV/AppData/Local/miniconda3/envs/model-monitoring/lib/site-packages/sklearn/metrics/_ranking.py?line=636'>637</a>\u001b[0m \u001b[39melif\u001b[39;00m y_type \u001b[39m==\u001b[39m \u001b[39m\"\u001b[39m\u001b[39mbinary\u001b[39m\u001b[39m\"\u001b[39m:\n\u001b[0;32m    <a href='file:///c%3A/Users/HuyLQ15_CTV/AppData/Local/miniconda3/envs/model-monitoring/lib/site-packages/sklearn/metrics/_ranking.py?line=637'>638</a>\u001b[0m     labels \u001b[39m=\u001b[39m np\u001b[39m.\u001b[39munique(y_true)\n",
      "File \u001b[1;32mc:\\Users\\HuyLQ15_CTV\\AppData\\Local\\miniconda3\\envs\\model-monitoring\\lib\\site-packages\\sklearn\\metrics\\_ranking.py:751\u001b[0m, in \u001b[0;36m_multiclass_roc_auc_score\u001b[1;34m(y_true, y_score, labels, multi_class, average, sample_weight)\u001b[0m\n\u001b[0;32m    <a href='file:///c%3A/Users/HuyLQ15_CTV/AppData/Local/miniconda3/envs/model-monitoring/lib/site-packages/sklearn/metrics/_ranking.py?line=748'>749</a>\u001b[0m     classes \u001b[39m=\u001b[39m _unique(y_true)\n\u001b[0;32m    <a href='file:///c%3A/Users/HuyLQ15_CTV/AppData/Local/miniconda3/envs/model-monitoring/lib/site-packages/sklearn/metrics/_ranking.py?line=749'>750</a>\u001b[0m     \u001b[39mif\u001b[39;00m \u001b[39mlen\u001b[39m(classes) \u001b[39m!=\u001b[39m y_score\u001b[39m.\u001b[39mshape[\u001b[39m1\u001b[39m]:\n\u001b[1;32m--> <a href='file:///c%3A/Users/HuyLQ15_CTV/AppData/Local/miniconda3/envs/model-monitoring/lib/site-packages/sklearn/metrics/_ranking.py?line=750'>751</a>\u001b[0m         \u001b[39mraise\u001b[39;00m \u001b[39mValueError\u001b[39;00m(\n\u001b[0;32m    <a href='file:///c%3A/Users/HuyLQ15_CTV/AppData/Local/miniconda3/envs/model-monitoring/lib/site-packages/sklearn/metrics/_ranking.py?line=751'>752</a>\u001b[0m             \u001b[39m\"\u001b[39m\u001b[39mNumber of classes in y_true not equal to the number of \u001b[39m\u001b[39m\"\u001b[39m\n\u001b[0;32m    <a href='file:///c%3A/Users/HuyLQ15_CTV/AppData/Local/miniconda3/envs/model-monitoring/lib/site-packages/sklearn/metrics/_ranking.py?line=752'>753</a>\u001b[0m             \u001b[39m\"\u001b[39m\u001b[39mcolumns in \u001b[39m\u001b[39m'\u001b[39m\u001b[39my_score\u001b[39m\u001b[39m'\u001b[39m\u001b[39m\"\u001b[39m\n\u001b[0;32m    <a href='file:///c%3A/Users/HuyLQ15_CTV/AppData/Local/miniconda3/envs/model-monitoring/lib/site-packages/sklearn/metrics/_ranking.py?line=753'>754</a>\u001b[0m         )\n\u001b[0;32m    <a href='file:///c%3A/Users/HuyLQ15_CTV/AppData/Local/miniconda3/envs/model-monitoring/lib/site-packages/sklearn/metrics/_ranking.py?line=755'>756</a>\u001b[0m \u001b[39mif\u001b[39;00m multi_class \u001b[39m==\u001b[39m \u001b[39m\"\u001b[39m\u001b[39movo\u001b[39m\u001b[39m\"\u001b[39m:\n\u001b[0;32m    <a href='file:///c%3A/Users/HuyLQ15_CTV/AppData/Local/miniconda3/envs/model-monitoring/lib/site-packages/sklearn/metrics/_ranking.py?line=756'>757</a>\u001b[0m     \u001b[39mif\u001b[39;00m sample_weight \u001b[39mis\u001b[39;00m \u001b[39mnot\u001b[39;00m \u001b[39mNone\u001b[39;00m:\n",
      "\u001b[1;31mValueError\u001b[0m: Number of classes in y_true not equal to the number of columns in 'y_score'"
     ]
    }
   ],
   "source": [
    "from evidently.report import Report\n",
    "\n",
    "report = Report(metrics=[\n",
    "    MultiClassificationMetric()\n",
    "])\n",
    "\n",
    "report.run(current_data=current, reference_data=None, column_mapping=column_mapping)\n",
    "report.json()"
   ]
  },
  {
   "cell_type": "code",
   "execution_count": 191,
   "metadata": {},
   "outputs": [],
   "source": [
    "current.columns = current.columns.map(str)"
   ]
  },
  {
   "cell_type": "code",
   "execution_count": 192,
   "metadata": {},
   "outputs": [],
   "source": [
    "column_mapping = ColumnMapping()\n",
    "column_mapping.prediction = ['0','1','2']\n",
    "column_mapping.target = 'target'"
   ]
  },
  {
   "cell_type": "code",
   "execution_count": 193,
   "metadata": {},
   "outputs": [
    {
     "data": {
      "text/plain": [
       "PredictionData(type='evidently:metric_result:PredictionData', predictions=125    2\n",
       "126    1\n",
       "127    1\n",
       "128    2\n",
       "129    2\n",
       "130    2\n",
       "131    2\n",
       "132    2\n",
       "133    1\n",
       "134    2\n",
       "135    2\n",
       "136    2\n",
       "137    2\n",
       "138    1\n",
       "139    2\n",
       "140    2\n",
       "141    2\n",
       "142    2\n",
       "143    2\n",
       "144    2\n",
       "145    2\n",
       "146    2\n",
       "147    2\n",
       "148    2\n",
       "149    2\n",
       "dtype: object, labels=[0, 1, 2], prediction_probas=                0         1         2\n",
       "125  4.514727e-06  0.092114  0.907882\n",
       "126  1.348251e-03  0.757529  0.241122\n",
       "127  1.381911e-03  0.729877  0.268741\n",
       "128  7.645899e-06  0.055618  0.944374\n",
       "129  1.092012e-05  0.159804  0.840186\n",
       "130  1.297124e-06  0.061696  0.938303\n",
       "131  1.273513e-06  0.067459  0.932540\n",
       "132  6.158512e-06  0.046733  0.953261\n",
       "133  7.263059e-04  0.771156  0.228118\n",
       "134  2.640124e-05  0.136890  0.863083\n",
       "135  6.908874e-07  0.040611  0.959388\n",
       "136  1.003903e-05  0.041155  0.958835\n",
       "137  3.314951e-05  0.124336  0.875631\n",
       "138  1.939524e-03  0.751611  0.246449\n",
       "139  2.323922e-05  0.119336  0.880641\n",
       "140  5.875843e-06  0.045684  0.954310\n",
       "141  4.910235e-05  0.138953  0.860998\n",
       "142  8.220146e-05  0.119211  0.880707\n",
       "143  2.506537e-06  0.036157  0.963841\n",
       "144  4.279395e-06  0.035444  0.964551\n",
       "145  3.036341e-05  0.101245  0.898725\n",
       "146  7.844509e-05  0.168555  0.831367\n",
       "147  5.885682e-05  0.146487  0.853455\n",
       "148  2.822025e-05  0.064857  0.935115\n",
       "149  1.511163e-04  0.167599  0.832250)"
      ]
     },
     "execution_count": 193,
     "metadata": {},
     "output_type": "execute_result"
    }
   ],
   "source": [
    "dataset_column = process_columns(current, column_mapping)\n",
    "prediction_data = get_prediction_data(current, data_columns=dataset_column, pos_label=None, threshold = 0.5)\n",
    "prediction_data"
   ]
  },
  {
   "cell_type": "markdown",
   "metadata": {},
   "source": [
    "## Probability label"
   ]
  },
  {
   "cell_type": "code",
   "execution_count": 87,
   "metadata": {},
   "outputs": [],
   "source": [
    "prediction_proba = data[['1', '2', '0']]\n",
    "prediction = data['prediction']"
   ]
  },
  {
   "cell_type": "code",
   "execution_count": 93,
   "metadata": {},
   "outputs": [
    {
     "data": {
      "text/plain": [
       "5.73506311657307"
      ]
     },
     "execution_count": 93,
     "metadata": {},
     "output_type": "execute_result"
    }
   ],
   "source": [
    "from sklearn.metrics import roc_auc_score, log_loss\n",
    "roc_auc_score(y_true=prediction, y_score=prediction_proba, multi_class='ovr')\n",
    "log_loss(y_true=prediction, y_pred=prediction_proba)"
   ]
  },
  {
   "cell_type": "code",
   "execution_count": null,
   "metadata": {},
   "outputs": [],
   "source": []
  },
  {
   "cell_type": "markdown",
   "metadata": {},
   "source": [
    "# Test"
   ]
  },
  {
   "cell_type": "code",
   "execution_count": 164,
   "metadata": {},
   "outputs": [],
   "source": [
    "from evidently.pipeline.column_mapping import ColumnMapping\n",
    "\n",
    "column_mapping = ColumnMapping()\n",
    "column_mapping.prediction = ['0','1','2']\n",
    "column_mapping.target = 'target'\n"
   ]
  },
  {
   "cell_type": "code",
   "execution_count": 166,
   "metadata": {},
   "outputs": [
    {
     "data": {
      "text/plain": [
       "ColumnMapping(target='target', prediction=['0', '1', '2'], datetime='datetime', id=None, numerical_features=None, categorical_features=None, datetime_features=None, target_names=None, task=None, pos_label=1, text_features=None, embeddings=None, user_id='user_id', item_id='item_id', recommendations_type=<RecomType.SCORE: 'score'>)"
      ]
     },
     "execution_count": 166,
     "metadata": {},
     "output_type": "execute_result"
    }
   ],
   "source": [
    "column_mapping"
   ]
  },
  {
   "cell_type": "code",
   "execution_count": 167,
   "metadata": {},
   "outputs": [],
   "source": [
    "from evidently.utils.data_operations import process_columns\n",
    "from evidently.calculations.classification_performance import get_prediction_data\n",
    "\n",
    "dataset_column = process_columns(data, column_mapping)\n",
    "prediction_data = get_prediction_data(data, data_columns=dataset_column, pos_label=None, threshold = 0.5)"
   ]
  },
  {
   "cell_type": "code",
   "execution_count": 168,
   "metadata": {},
   "outputs": [
    {
     "data": {
      "text/plain": [
       "PredictionData(type='evidently:metric_result:PredictionData', predictions=0      0\n",
       "1      0\n",
       "2      0\n",
       "3      0\n",
       "4      0\n",
       "      ..\n",
       "145    2\n",
       "146    2\n",
       "147    2\n",
       "148    2\n",
       "149    2\n",
       "Length: 150, dtype: object, labels=[0, 1, 2], prediction_probas=            0         1             2\n",
       "0    0.984358  0.015642  9.935675e-08\n",
       "1    0.977970  0.022029  2.041954e-07\n",
       "2    0.987768  0.012232  9.750679e-08\n",
       "3    0.980500  0.019499  2.500493e-07\n",
       "4    0.986975  0.013025  8.397178e-08\n",
       "..        ...       ...           ...\n",
       "145  0.000030  0.101245  8.987248e-01\n",
       "146  0.000078  0.168555  8.313668e-01\n",
       "147  0.000059  0.146487  8.534546e-01\n",
       "148  0.000028  0.064857  9.351151e-01\n",
       "149  0.000151  0.167599  8.322504e-01\n",
       "\n",
       "[150 rows x 3 columns])"
      ]
     },
     "execution_count": 168,
     "metadata": {},
     "output_type": "execute_result"
    }
   ],
   "source": [
    "prediction_data"
   ]
  },
  {
   "cell_type": "code",
   "execution_count": null,
   "metadata": {},
   "outputs": [],
   "source": [
    "from evidently.metric_results import DatasetColumns\n",
    "from evidently.pipeline.column_mapping import ColumnMapping"
   ]
  }
 ],
 "metadata": {
  "interpreter": {
   "hash": "207e60eac2ff56558166198e2c0941ea4216ea025c42ddd95d3a76ed9cb3f5a9"
  },
  "kernelspec": {
   "display_name": "Python 3.10.15 ('model-monitoring')",
   "language": "python",
   "name": "python3"
  },
  "language_info": {
   "codemirror_mode": {
    "name": "ipython",
    "version": 3
   },
   "file_extension": ".py",
   "mimetype": "text/x-python",
   "name": "python",
   "nbconvert_exporter": "python",
   "pygments_lexer": "ipython3",
   "version": "3.10.15"
  },
  "orig_nbformat": 4
 },
 "nbformat": 4,
 "nbformat_minor": 2
}
